{
  "cells": [
    {
      "cell_type": "code",
      "execution_count": 1,
      "metadata": {
        "id": "MBUYhDK3nEVX"
      },
      "outputs": [],
      "source": [
        "import torch\n",
        "import torch.nn as nn\n",
        "import torch.nn.functional as F\n",
        "import torch.optim as optim\n",
        "import torchvision\n",
        "import torchvision.transforms as transforms\n",
        "from torchvision.models import resnet50, ResNet50_Weights\n",
        "\n",
        "import matplotlib.pyplot as plt\n",
        "import numpy as np"
      ]
    },
    {
      "cell_type": "code",
      "execution_count": 2,
      "metadata": {},
      "outputs": [],
      "source": [
        "import sys\n",
        "sys.path.insert(1, '/home/shuvraneel/Desktop/Discrete Key Value Bottleneck')"
      ]
    },
    {
      "cell_type": "code",
      "execution_count": 3,
      "metadata": {
        "id": "BJJe1sTRncwk"
      },
      "outputs": [],
      "source": [
        "BATCH_SIZE = 256\n",
        "NUM_CLASSES = 10\n",
        "SAMPLES_PER_CLASS = 5000\n",
        "NUM_EPOCHS = 2000\n",
        "device = torch.device(\"cuda:0\" if torch.cuda.is_available() else \"cpu\")"
      ]
    },
    {
      "cell_type": "code",
      "execution_count": 4,
      "metadata": {
        "id": "bxQldJVq0kIA"
      },
      "outputs": [],
      "source": [
        "resnet50 = resnet50(weights=ResNet50_Weights.IMAGENET1K_V2).to(device)\n",
        "resnet_model = nn.Sequential(*list(resnet50.children())[:-1]) # Embeddings of dimension 2048 are created using the backbone, droppinf the fc layer\n",
        "\n",
        "weights = ResNet50_Weights.IMAGENET1K_V2\n",
        "preprocess = weights.transforms()"
      ]
    },
    {
      "cell_type": "code",
      "execution_count": 5,
      "metadata": {
        "id": "4IGcSQL90adm"
      },
      "outputs": [
        {
          "name": "stdout",
          "output_type": "stream",
          "text": [
            "Files already downloaded and verified\n",
            "Files already downloaded and verified\n"
          ]
        }
      ],
      "source": [
        "trainset = torchvision.datasets.CIFAR10(root='./data', train=True,\n",
        "                                        download=True, transform=preprocess)\n",
        "trainloader = torch.utils.data.DataLoader(trainset, batch_size=BATCH_SIZE,\n",
        "                                          shuffle=True, num_workers=2)\n",
        "\n",
        "testset = torchvision.datasets.CIFAR10(root='./data', train=False,\n",
        "                                       download=True, transform=preprocess)\n",
        "testloader = torch.utils.data.DataLoader(testset, batch_size=BATCH_SIZE,\n",
        "                                         shuffle=False, num_workers=2)\n",
        "\n",
        "classes = ('plane', 'car', 'bird', 'cat',\n",
        "           'deer', 'dog', 'frog', 'horse', 'ship', 'truck')"
      ]
    },
    {
      "cell_type": "code",
      "execution_count": 6,
      "metadata": {
        "id": "iBtgaVglnhBD"
      },
      "outputs": [],
      "source": [
        "def plot_images(img):\n",
        "    img = img / 2 + 0.5\n",
        "    npimg = img.numpy()\n",
        "    plt.imshow(np.transpose(npimg, (1, 2, 0)))\n",
        "    plt.show()"
      ]
    },
    {
      "cell_type": "code",
      "execution_count": 7,
      "metadata": {
        "id": "ar7WR-fMLcJZ"
      },
      "outputs": [],
      "source": [
        "def filter_for_two_classes(dataset, class_a, class_b):\n",
        "    targets = torch.tensor(dataset.targets)\n",
        "    indices = torch.where((targets == class_a) | (targets == class_b))[0]\n",
        "    filtered_dataset = torch.utils.data.Subset(dataset, indices)\n",
        "    return torch.utils.data.DataLoader(filtered_dataset, batch_size=BATCH_SIZE, shuffle=True, num_workers=2)"
      ]
    },
    {
      "cell_type": "code",
      "execution_count": 8,
      "metadata": {
        "id": "bWbnFeZdLcJZ"
      },
      "outputs": [],
      "source": [
        "loss_criterion = nn.CrossEntropyLoss()\n",
        "\n",
        "def train_incrementally(num_epochs, trainset, model, loss_criterion, optimizer, min_delta=0, scheduler=None):\n",
        "\n",
        "    for i in range(int(NUM_CLASSES/2)):\n",
        "        print(f\"Training period  {i + 1 } started\")\n",
        "        print(f\"Classes being trained on are: {(2*i, 2*i+1)}\")\n",
        "\n",
        "        train_loader = filter_for_two_classes(trainset, 2*i, 2*i+1)\n",
        "\n",
        "        losses = []\n",
        "        last_epoch = None\n",
        "\n",
        "        for epoch in range(num_epochs):\n",
        "            for inputs, labels in train_loader:\n",
        "                inputs, labels = inputs.to(device), labels.to(device)\n",
        "\n",
        "                outputs = model(inputs)\n",
        "                loss = loss_criterion(outputs, labels)\n",
        "                losses.append(loss.item())\n",
        "\n",
        "                optimizer.zero_grad()\n",
        "                loss.backward()\n",
        "                optimizer.step()\n",
        "\n",
        "            if epoch % 100 == 0:\n",
        "                print(f'Epoch {epoch+1}/{num_epochs}, Loss: {losses[-1]:.4f}')\n",
        "\n",
        "            last_epoch = epoch\n",
        "\n",
        "        print(f\"Training period { i + 1 } completed; last epoch run = { last_epoch + 1 }\")\n",
        "\n",
        "        plt.plot(losses)\n",
        "        plt.xlabel(\"Epochs\")\n",
        "        plt.ylabel(\"Training Loss\")"
      ]
    },
    {
      "cell_type": "code",
      "execution_count": 9,
      "metadata": {
        "id": "dk-4jn3FLcJZ"
      },
      "outputs": [],
      "source": [
        "def init_weights_kaiming(m):\n",
        "    if isinstance(m, nn.Linear):\n",
        "        nn.init.kaiming_normal_(m.weight, nonlinearity='relu')\n",
        "        nn.init.zeros_(m.bias)"
      ]
    },
    {
      "cell_type": "code",
      "execution_count": null,
      "metadata": {
        "id": "Pb4K-ujx9bCp"
      },
      "outputs": [],
      "source": [
        "import DiscreteKeyValueBottleNeck\n",
        "\n",
        "dkvb = DiscreteKeyValueBottleNeck.DiscreteKeyValueBottleneck(encoder = resnet_model,\n",
        "                                  num_codebooks = 256,\n",
        "                                  enc_out_dim = 2048,\n",
        "                                  embed_dim = 14,\n",
        "                                  value_dim = 10,\n",
        "                                  keys_per_codebook = 4096,\n",
        "                                  device = device)\n",
        "\n",
        "dkvb = dkvb.to(device)\n",
        "dkvb.apply(init_weights_kaiming)\n",
        "optimizer = optim.SGD(dkvb.parameters(), lr=0.3)\n",
        "train_incrementally(NUM_EPOCHS, trainset, dkvb, loss_criterion, optimizer)"
      ]
    }
  ],
  "metadata": {
    "accelerator": "GPU",
    "colab": {
      "gpuType": "T4",
      "provenance": []
    },
    "kernelspec": {
      "display_name": "venv",
      "language": "python",
      "name": "python3"
    },
    "language_info": {
      "codemirror_mode": {
        "name": "ipython",
        "version": 3
      },
      "file_extension": ".py",
      "mimetype": "text/x-python",
      "name": "python",
      "nbconvert_exporter": "python",
      "pygments_lexer": "ipython3",
      "version": "3.12.0"
    }
  },
  "nbformat": 4,
  "nbformat_minor": 0
}
